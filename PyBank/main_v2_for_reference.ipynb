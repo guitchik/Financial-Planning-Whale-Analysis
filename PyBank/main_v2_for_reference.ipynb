{
 "cells": [
  {
   "cell_type": "code",
   "execution_count": 51,
   "id": "ea3cd1bc-3617-4c39-aa4f-90d1cabbfef7",
   "metadata": {},
   "outputs": [
    {
     "name": "stdout",
     "output_type": "stream",
     "text": [
      "-2315.12\n",
      "Monthly change, 532869 and greatest increase {'date': 'Feb-2012', 'change': 1926159}\n",
      "Monthly change, 532869 and greatest decrease {'date': 'Sep-2013', 'change': -2196167}\n"
     ]
    }
   ],
   "source": [
    "from pathlib import Path\n",
    "import csv\n",
    "\n",
    "csvpath = Path('Resources/budget_data.csv')\n",
    "\n",
    "total_months = 0\n",
    "total = 0\n",
    "average_change_sum = 0\n",
    "greatest_increase = { 'date': '', 'change': 0 }\n",
    "greatest_decrease = { 'date': '', 'change': 0}\n",
    "\n",
    "\n",
    "with open (csvpath, 'r') as csvfile:\n",
    "    csvreader = csv.reader(csvfile, delimiter =  ',')\n",
    "    \n",
    "    csvheader = next(csvreader)\n",
    "    previous_month_pl = 0\n",
    "    \n",
    "    for row in csvreader:\n",
    "        total_months += 1\n",
    "        current_month_pl = int(row[1])\n",
    "        total += current_month_pl\n",
    "        \n",
    "        if previous_month_pl:\n",
    "            monthly_change = current_month_pl - previous_month_pl\n",
    "            average_change_sum += monthly_change\n",
    "            \n",
    "            # check to see if monthly change is bigger than greatest increase\n",
    "            if monthly_change > greatest_increase['change']:\n",
    "                greatest_increase = { 'date': row[0], 'change': monthly_change }\n",
    "#                print(f'Monthly change, {monthly_change} and greatest increase {greatest_increase}')\n",
    "            \n",
    "            # check to see if monthly change is less than greatest decrease\n",
    "            if monthly_change < greatest_decrease['change']:\n",
    "                greatest_decrease = { 'date': row[0], 'change': monthly_change}\n",
    " #               print(f'Monthly change, {monthly_change} and greatest decrease {greatest_decrease}')\n",
    "        \n",
    "        \n",
    "        previous_month_pl = current_month_pl\n",
    "\n",
    "    average_change = round(average_change_sum / (total_months - 1), 2)\n",
    "    print(average_change)\n",
    "    print(f'Monthly change, {monthly_change} and greatest increase {greatest_increase}')\n",
    "    print(f'Monthly change, {monthly_change} and greatest decrease {greatest_decrease}')\n",
    "#        for items in row:\n",
    "#            records[items] = \n",
    "#    print(total_months)\n",
    "#    print(total)\n",
    "#    average_change = round(total / total_months, 2)\n",
    "#    print(average_change)\n",
    "#    print(records)\n",
    "    \n",
    "    # largest_bank = max(banks, key = banks.get)\n",
    "    # smallest_bank = min(banks, key = banks.get)\n",
    "    #print(largest_bank, smallest_bank)"
   ]
  },
  {
   "cell_type": "code",
   "execution_count": null,
   "id": "717b37d1-b6a9-4aca-9f76-974121bf836b",
   "metadata": {},
   "outputs": [],
   "source": []
  }
 ],
 "metadata": {
  "kernelspec": {
   "display_name": "Python 3 (ipykernel)",
   "language": "python",
   "name": "python3"
  },
  "language_info": {
   "codemirror_mode": {
    "name": "ipython",
    "version": 3
   },
   "file_extension": ".py",
   "mimetype": "text/x-python",
   "name": "python",
   "nbconvert_exporter": "python",
   "pygments_lexer": "ipython3",
   "version": "3.7.13"
  }
 },
 "nbformat": 4,
 "nbformat_minor": 5
}
